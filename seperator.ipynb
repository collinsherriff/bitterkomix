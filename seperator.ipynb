{
 "cells": [
  {
   "cell_type": "code",
   "execution_count": 2,
   "metadata": {},
   "outputs": [],
   "source": [
    "import os\n",
    "import shutil\n",
    "\n",
    "\n",
    "src_dir = os.getcwd()\n",
    "\n",
    "json_dir = os.path.join(os.getcwd(), 'jsons')\n",
    "jpg_dir = os.path.join(os.getcwd(), 'assets')\n",
    "\n",
    "\n",
    "for file in os.listdir(src_dir):\n",
    "    \n",
    "    if file.endswith('.json'):\n",
    "        \n",
    "        shutil.move(os.path.join(src_dir, file), json_dir)\n",
    "    \n",
    "    elif file.endswith('.jpg'):\n",
    "       \n",
    "        shutil.move(os.path.join(src_dir, file), jpg_dir)\n"
   ]
  }
 ],
 "metadata": {
  "kernelspec": {
   "display_name": "Python 3",
   "language": "python",
   "name": "python3"
  },
  "language_info": {
   "codemirror_mode": {
    "name": "ipython",
    "version": 3
   },
   "file_extension": ".py",
   "mimetype": "text/x-python",
   "name": "python",
   "nbconvert_exporter": "python",
   "pygments_lexer": "ipython3",
   "version": "3.10.5"
  },
  "orig_nbformat": 4
 },
 "nbformat": 4,
 "nbformat_minor": 2
}
